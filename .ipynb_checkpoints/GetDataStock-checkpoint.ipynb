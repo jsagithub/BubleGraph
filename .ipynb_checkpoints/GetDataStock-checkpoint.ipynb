{
 "cells": [
  {
   "cell_type": "code",
   "execution_count": 2,
   "metadata": {},
   "outputs": [
    {
     "name": "stdout",
     "output_type": "stream",
     "text": [
      "\u001b[33mDEPRECATION: Python 2.7 will reach the end of its life on January 1st, 2020. Please upgrade your Python as Python 2.7 won't be maintained after that date. A future version of pip will drop support for Python 2.7.\u001b[0m\n",
      "Requirement already satisfied: yfinance in /home/jsa/.local/lib/python2.7/site-packages (0.1.45)\n",
      "Requirement already satisfied: pandas>=0.24 in /home/jsa/.local/lib/python2.7/site-packages (from yfinance) (0.24.2)\n",
      "Requirement already satisfied: multitasking>=0.0.7 in /home/jsa/.local/lib/python2.7/site-packages (from yfinance) (0.0.9)\n",
      "Requirement already satisfied: numpy>=1.15 in /home/jsa/.local/lib/python2.7/site-packages (from yfinance) (1.16.5)\n",
      "Requirement already satisfied: requests>=2.20 in /home/jsa/.local/lib/python2.7/site-packages (from yfinance) (2.22.0)\n",
      "Requirement already satisfied: pytz>=2011k in /home/jsa/.local/lib/python2.7/site-packages (from pandas>=0.24->yfinance) (2019.2)\n",
      "Requirement already satisfied: python-dateutil>=2.5.0 in /home/jsa/.local/lib/python2.7/site-packages (from pandas>=0.24->yfinance) (2.8.0)\n",
      "Requirement already satisfied: chardet<3.1.0,>=3.0.2 in /home/jsa/.local/lib/python2.7/site-packages (from requests>=2.20->yfinance) (3.0.4)\n",
      "Requirement already satisfied: idna<2.9,>=2.5 in /home/jsa/.local/lib/python2.7/site-packages (from requests>=2.20->yfinance) (2.8)\n",
      "Requirement already satisfied: urllib3!=1.25.0,!=1.25.1,<1.26,>=1.21.1 in /home/jsa/.local/lib/python2.7/site-packages (from requests>=2.20->yfinance) (1.25.6)\n",
      "Requirement already satisfied: certifi>=2017.4.17 in /home/jsa/.local/lib/python2.7/site-packages (from requests>=2.20->yfinance) (2019.9.11)\n",
      "Requirement already satisfied: six>=1.5 in /home/jsa/.local/lib/python2.7/site-packages (from python-dateutil>=2.5.0->pandas>=0.24->yfinance) (1.12.0)\n"
     ]
    }
   ],
   "source": [
    "# Install yfinance package.\n",
    "!pip install yfinance\n",
    " \n",
    "# Import yfinance\n",
    "import yfinance as yf  \n",
    "import plotly.graph_objects as go"
   ]
  },
  {
   "cell_type": "code",
   "execution_count": 3,
   "metadata": {},
   "outputs": [
    {
     "name": "stdout",
     "output_type": "stream",
     "text": [
      "[*********************100%***********************]  1 of 1 downloaded\n"
     ]
    },
    {
     "data": {
      "text/plain": [
       "<Figure size 640x480 with 1 Axes>"
      ]
     },
     "metadata": {},
     "output_type": "display_data"
    }
   ],
   "source": [
    "# Get the data for the stock Apple by specifying the stock ticker, start date, and end date\n",
    "df = yf.download('AAPL','2018-01-01','2019-01-01')\n",
    " \n",
    "# Plot the close prices\n",
    "import matplotlib.pyplot as plt\n",
    "df.Close.plot()\n",
    "plt.show()"
   ]
  },
  {
   "cell_type": "code",
   "execution_count": 4,
   "metadata": {},
   "outputs": [
    {
     "ename": "NameError",
     "evalue": "name 'go' is not defined",
     "output_type": "error",
     "traceback": [
      "\u001b[0;31m---------------------------------------------------------------------------\u001b[0m",
      "\u001b[0;31mNameError\u001b[0m                                 Traceback (most recent call last)",
      "\u001b[0;32m<ipython-input-4-a9ee1c879104>\u001b[0m in \u001b[0;36m<module>\u001b[0;34m()\u001b[0m\n\u001b[0;32m----> 1\u001b[0;31m fig = go.Figure(data=[go.Candlestick(x=df['Date'],\n\u001b[0m\u001b[1;32m      2\u001b[0m                 \u001b[0mopen\u001b[0m\u001b[0;34m=\u001b[0m\u001b[0mdf\u001b[0m\u001b[0;34m[\u001b[0m\u001b[0;34m'AAPL.Open'\u001b[0m\u001b[0;34m]\u001b[0m\u001b[0;34m,\u001b[0m\u001b[0;34m\u001b[0m\u001b[0m\n\u001b[1;32m      3\u001b[0m                 \u001b[0mhigh\u001b[0m\u001b[0;34m=\u001b[0m\u001b[0mdf\u001b[0m\u001b[0;34m[\u001b[0m\u001b[0;34m'AAPL.High'\u001b[0m\u001b[0;34m]\u001b[0m\u001b[0;34m,\u001b[0m\u001b[0;34m\u001b[0m\u001b[0m\n\u001b[1;32m      4\u001b[0m                 \u001b[0mlow\u001b[0m\u001b[0;34m=\u001b[0m\u001b[0mdf\u001b[0m\u001b[0;34m[\u001b[0m\u001b[0;34m'AAPL.Low'\u001b[0m\u001b[0;34m]\u001b[0m\u001b[0;34m,\u001b[0m\u001b[0;34m\u001b[0m\u001b[0m\n\u001b[1;32m      5\u001b[0m                 close=df['AAPL.Close'])])\n",
      "\u001b[0;31mNameError\u001b[0m: name 'go' is not defined"
     ]
    }
   ],
   "source": [
    "fig = go.Figure(data=[go.Candlestick(x=df['Date'],\n",
    "                open=df['AAPL.Open'],\n",
    "                high=df['AAPL.High'],\n",
    "                low=df['AAPL.Low'],\n",
    "                close=df['AAPL.Close'])])\n",
    "\n",
    "fig.show()"
   ]
  },
  {
   "cell_type": "code",
   "execution_count": null,
   "metadata": {},
   "outputs": [],
   "source": []
  }
 ],
 "metadata": {
  "kernelspec": {
   "display_name": "Python 2",
   "language": "python",
   "name": "python2"
  },
  "language_info": {
   "codemirror_mode": {
    "name": "ipython",
    "version": 2
   },
   "file_extension": ".py",
   "mimetype": "text/x-python",
   "name": "python",
   "nbconvert_exporter": "python",
   "pygments_lexer": "ipython2",
   "version": "2.7.16"
  }
 },
 "nbformat": 4,
 "nbformat_minor": 2
}
